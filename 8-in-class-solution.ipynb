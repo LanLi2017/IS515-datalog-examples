{
 "cells": [
  {
   "cell_type": "code",
   "execution_count": 1,
   "id": "88f1ea54-1053-4ed6-8a26-8a070be3531e",
   "metadata": {},
   "outputs": [
    {
     "name": "stdout",
     "output_type": "stream",
     "text": [
      "Overwriting graph.lp\n"
     ]
    }
   ],
   "source": [
    "%%file graph.lp\n",
    "% A Graph G, represented as a database instance I of edges e(From, To):\n",
    "e(1,2).\n",
    "e(1,3).\n",
    "e(2,4).\n",
    "e(3,4).\n",
    "e(4,5).\n",
    "\n",
    "% The vertices of the graph:\n",
    "v(6).    \n",
    "% In RA: V = \\pi_1(E) U \\pi_2(E), i.e., the union of the projections on the 1st and 2nd column, resp.\n",
    "v(X) :- e(X,_).     \n",
    "v(X) :- e(_,X).     \n"
   ]
  },
  {
   "cell_type": "code",
   "execution_count": 2,
   "id": "239c90a0-adad-48b5-bb84-ff359278a4b3",
   "metadata": {},
   "outputs": [
    {
     "name": "stdout",
     "output_type": "stream",
     "text": [
      "Overwriting q2-3.lp\n"
     ]
    }
   ],
   "source": [
    "%%file q2-3.lp\n",
    "%% Question 2: \n",
    "%% A source node has no incoming edges. A sink node has no outgoing edges. What nodes in G are source nodes?\n",
    "%% What nodes are sink nodes? What nodes are neither source, nor sink nodes?\n",
    "%% Sources: 1\n",
    "%% Sinks: 5\n",
    "%% Inner: 2,3,4\n",
    "\n",
    "\n",
    "%% Question 3: \n",
    "%% Write Datalog rules that compute the source nodes, sink nodes, and “other nodes”.\n",
    "%% Hint: Use negation as needed and make sure that rules are safe.\n",
    "\n",
    "% Variant 1: \n",
    "has_out_edge(X) :- e(X,Y).\n",
    "has_in_edge(X) :- e(Y,X).\n",
    "\n",
    "source(X) :- v(X), not has_in_edge(X).\n",
    "sink(X) :- v(X), not has_out_edge(X).\n",
    "\n",
    "inner(X) :- v(X), not source(X), not sink(X).\n",
    "\n",
    "% Variant 2 (using anonymous variables) - inner/1 is the same.\n",
    "source2(X) :- v(X), not e(_,X).\n",
    "sink2(X) :- v(X), not e(X,_).\n",
    "\n",
    "% Variant 3: unsafe\n",
    "% source3(X) :- v(X), not e(Y,X).\n",
    "% sink3(X) :- v(X), not e(X,Y).\n",
    "\n",
    "% Variant 4: safe but semantically incorrect\n",
    "source4(X) :- v(X), v(Y), not e(Y,X).\n",
    "sink4(X) :- v(X), v(Y), not e(X,Y).\n",
    "\n",
    "#show source/1.\n",
    "#show sink/1.\n",
    "#show inner/1."
   ]
  },
  {
   "cell_type": "code",
   "execution_count": null,
   "id": "6103fcd9-bfd7-4c6b-a9d2-385fd9d14200",
   "metadata": {},
   "outputs": [
    {
     "name": "stdout",
     "output_type": "stream",
     "text": [
      "clingo version 5.3.0\n",
      "Reading from graph.lp ...\n",
      "Solving...\n",
      "Answer: 1\n",
      "inner(2) inner(3) inner(4) sink(6) sink(5) source(6) source(1)\n",
      "SATISFIABLE\n",
      "\n",
      "Models       : 1\n",
      "Calls        : 1\n",
      "Time         : 0.001s (Solving: 0.00s 1st Model: 0.00s Unsat: 0.00s)\n",
      "CPU Time     : 0.001s\n"
     ]
    }
   ],
   "source": [
    "!clingo graph.lp q2-3.lp"
   ]
  },
  {
   "cell_type": "code",
   "execution_count": null,
   "id": "95b12c9d-e9ef-48f0-ad2e-fe9f1df9b3be",
   "metadata": {},
   "outputs": [
    {
     "name": "stdout",
     "output_type": "stream",
     "text": [
      "inner(2).\n",
      "inner(3).\n",
      "inner(4).\n",
      "sink(5).\n",
      "sink(6).\n",
      "source(1).\n",
      "source(6).\n"
     ]
    }
   ],
   "source": [
    "!clingo graph.lp q2-3.lp -V0 --out-ifs=\\\\n --out-atomf=%s. | tail -r | tail -n +2 | sort"
   ]
  },
  {
   "cell_type": "code",
   "execution_count": null,
   "id": "26d73f9f-7834-4bcb-b204-ac84b458a128",
   "metadata": {},
   "outputs": [
    {
     "name": "stdout",
     "output_type": "stream",
     "text": [
      "Overwriting q4.lp\n"
     ]
    }
   ],
   "source": [
    "%%file q4.lp\n",
    "% Find a path with 3 edges and return the 2nd last vertex: \n",
    "ans1(X) :- e(GP,P), e(P,X), e(X,C).\n",
    "\n",
    "% Find a vertex with (at least) two in-edges: \n",
    "ans2(X) :- e(Y1,X), e(Y2,X), Y1 != Y2.\n",
    "\n",
    "#show ans1/1.\n",
    "#show ans2/1."
   ]
  },
  {
   "cell_type": "code",
   "execution_count": null,
   "id": "9e52bb34-2ec2-45d7-85c5-29c0fcfd0cbe",
   "metadata": {},
   "outputs": [
    {
     "name": "stdout",
     "output_type": "stream",
     "text": [
      "clingo version 5.3.0\n",
      "Reading from graph.lp ...\n",
      "Solving...\n",
      "Answer: 1\n",
      "ans1(4) ans2(4)\n",
      "SATISFIABLE\n",
      "\n",
      "Models       : 1\n",
      "Calls        : 1\n",
      "Time         : 0.001s (Solving: 0.00s 1st Model: 0.00s Unsat: 0.00s)\n",
      "CPU Time     : 0.001s\n"
     ]
    }
   ],
   "source": [
    "!clingo graph.lp q4.lp"
   ]
  },
  {
   "cell_type": "code",
   "execution_count": null,
   "id": "390d51ad-0db1-4451-8fd1-1db570f3513c",
   "metadata": {},
   "outputs": [],
   "source": []
  }
 ],
 "metadata": {
  "kernelspec": {
   "display_name": "Python 3 (ipykernel)",
   "language": "python",
   "name": "python3"
  },
  "language_info": {
   "codemirror_mode": {
    "name": "ipython",
    "version": 3
   },
   "file_extension": ".py",
   "mimetype": "text/x-python",
   "name": "python",
   "nbconvert_exporter": "python",
   "pygments_lexer": "ipython3",
   "version": "3.7.6"
  }
 },
 "nbformat": 4,
 "nbformat_minor": 5
}
