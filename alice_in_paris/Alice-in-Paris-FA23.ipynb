{
 "cells": [
  {
   "cell_type": "code",
   "execution_count": 13,
   "id": "88f1ea54-1053-4ed6-8a26-8a070be3531e",
   "metadata": {},
   "outputs": [
    {
     "name": "stdout",
     "output_type": "stream",
     "text": [
      "Overwriting Alice_and_Bob_FA23.lp\n"
     ]
    }
   ],
   "source": [
    "%%file Alice_and_Bob_FA23.lp\n",
    "% Extensional Database = Set of Facts: \n",
    "% The FACTS (aka \"triple\") in the knowledge graph: \n",
    "e(\"Mona Lisa\",exhibited_at,\"Louvre\").\n",
    "e(\"Bob\",friend_of,\"Alice\").\n",
    "e(\"Bob\",interested_in,\"Mona Lisa\").\n",
    "e(\"Alice\",isa,\"Person\").\n",
    "e(\"Bob\",isa,\"Person\").\n",
    "e(\"Eiffel Tower\",located_in,\"Paris\").\n",
    "e(\"Louvre\",located_in,\"Paris\").\n",
    "e(\"Alice\",visited,\"Eiffel Tower\").\n",
    "e(\"Bob\",was_born_on,\"1990-07-14\").\n",
    "\n",
    "% Q1: Who is a person?\n",
    "q1(X) :- e(X, isa, \"Person\").\n",
    "\n",
    "% Q2: Who is interested in something that's exhibited at a venue in Paris?\n",
    "q2(X) :- e(X, interested_in, I), e(I, exhibited_at, V), e(V, located_in, \"Paris\").\n",
    "\n",
    "% Q3: As Q2, but show intermediate nodes:\n",
    "q3(X, I, V) :- e(X, interested_in, I), e(I, exhibited_at, V), e(V, located_in, \"Paris\").\n",
    "\n",
    "% Q4: All about Alice: What's in the 1-neighborhood of Alice?\n",
    "q4(\"Alice\", R, Y) :- e(\"Alice\", R, Y).\n",
    "q4(X, R, \"Alice\") :- e(X, R, \"Alice\").\n",
    "\n",
    "#show q1/1.\n",
    "#show q2/1.\n",
    "#show q3/3.\n",
    "#show q4/3."
   ]
  },
  {
   "cell_type": "code",
   "execution_count": 14,
   "id": "75d9f853-ffd1-4d84-ba79-34c331d30346",
   "metadata": {},
   "outputs": [
    {
     "name": "stdout",
     "output_type": "stream",
     "text": [
      "clingo version 5.6.2\r\n",
      "Reading from Alice_and_Bob_FA23.lp\r\n",
      "Solving...\r\n",
      "Answer: 1\r\n",
      "q1(\"Alice\") q1(\"Bob\") q2(\"Bob\") q3(\"Bob\",\"Mona Lisa\",\"Louvre\") q4(\"Bob\",friend_of,\"Alice\") q4(\"Alice\",isa,\"Person\") q4(\"Alice\",visited,\"Eiffel Tower\")\r\n",
      "SATISFIABLE\r\n",
      "\r\n",
      "Models       : 1\r\n",
      "Calls        : 1\r\n",
      "Time         : 0.002s (Solving: 0.00s 1st Model: 0.00s Unsat: 0.00s)\r\n",
      "CPU Time     : 0.001s\r\n"
     ]
    }
   ],
   "source": [
    "!clingo Alice_and_Bob_FA23.lp"
   ]
  },
  {
   "cell_type": "code",
   "execution_count": 15,
   "id": "6103fcd9-bfd7-4c6b-a9d2-385fd9d14200",
   "metadata": {},
   "outputs": [
    {
     "name": "stdout",
     "output_type": "stream",
     "text": [
      "q1(\"Alice\").\r\n",
      "q1(\"Bob\").\r\n",
      "q2(\"Bob\").\r\n",
      "q3(\"Bob\",\"Mona Lisa\",\"Louvre\").\r\n",
      "q4(\"Alice\",isa,\"Person\").\r\n",
      "q4(\"Alice\",visited,\"Eiffel Tower\").\r\n",
      "q4(\"Bob\",friend_of,\"Alice\").\r\n"
     ]
    }
   ],
   "source": [
    "!clingo Alice_and_Bob_FA23.lp -V0 --out-ifs=\\\\n --out-atomf=%s.  | tail -r | tail -n +2 | sort"
   ]
  },
  {
   "cell_type": "code",
   "execution_count": null,
   "id": "390d51ad-0db1-4451-8fd1-1db570f3513c",
   "metadata": {},
   "outputs": [],
   "source": []
  }
 ],
 "metadata": {
  "kernelspec": {
   "display_name": "Python 3 (ipykernel)",
   "language": "python",
   "name": "python3"
  },
  "language_info": {
   "codemirror_mode": {
    "name": "ipython",
    "version": 3
   },
   "file_extension": ".py",
   "mimetype": "text/x-python",
   "name": "python",
   "nbconvert_exporter": "python",
   "pygments_lexer": "ipython3",
   "version": "3.11.3"
  }
 },
 "nbformat": 4,
 "nbformat_minor": 5
}
