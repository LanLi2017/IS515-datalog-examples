{
 "cells": [
  {
   "cell_type": "code",
   "execution_count": 1,
   "id": "88f1ea54-1053-4ed6-8a26-8a070be3531e",
   "metadata": {},
   "outputs": [
    {
     "name": "stdout",
     "output_type": "stream",
     "text": [
      "Overwriting Alice_and_Bob.lp\n"
     ]
    }
   ],
   "source": [
    "%%file Alice_and_Bob.lp\n",
    "% Extensional Database = Set of Facts: \n",
    "% The FACTS (aka \"triple\") in the knowledge graph: \n",
    "e(\"ML\",exhibited_at,\"LOU\").\n",
    "e(\"B\",friend_of,\"Alice\").\n",
    "e(\"B\",interested_in,\"ML\").\n",
    "e(\"Alice\",isa,\"Person\").\n",
    "e(\"B\",isa,\"Person\").\n",
    "e(\"ET\",located_in,\"Paris\").\n",
    "e(\"LOU\",located_in,\"Paris\").\n",
    "e(\"Alice\",visited,\"ET\").\n",
    "e(\"B\",was_born_on,\"DOB\").\n",
    "\n",
    "% Some RULES (query definitions):\n",
    "    \n",
    "has_out_edge(X) :- e(X,_,_).\n",
    "has_in_edge(X) :- e(_,_,X).\n",
    "\n",
    "% The vertices of the graph:\n",
    "v(X) :- has_out_edge(X).\n",
    "v(X) :- has_in_edge(X).\n",
    "\n",
    "parent(X,F) :-  father(X, F).\n",
    "parent(X,M) :- mother(X,M).\n",
    "\n",
    "% The labels of the graph:\n",
    "label(L) :- e(_,L,_).\n",
    "\n",
    "% The sources, sinks, inner nodes of the graph:\n",
    "source(X) :- has_out_edge(X), not has_in_edge(X).\n",
    "sink(X) :- has_in_edge(X), not has_out_edge(X).\n",
    "\n",
    "inner(X) :- v(X), not source(X), not sink(X).\n",
    "\n",
    "#show source/1.\n",
    "#show sink/1.\n",
    "#show inner/1."
   ]
  },
  {
   "cell_type": "code",
   "execution_count": 2,
   "id": "75d9f853-ffd1-4d84-ba79-34c331d30346",
   "metadata": {},
   "outputs": [
    {
     "name": "stdout",
     "output_type": "stream",
     "text": [
      "clingo version 5.3.0\n",
      "Reading from Alice_and_bob.lp\n",
      "Solving...\n",
      "Answer: 1\n",
      "inner(\"ML\") inner(\"Alice\") inner(\"ET\") inner(\"LOU\") sink(\"Person\") sink(\"Paris\") sink(\"DOB\") source(\"B\")\n",
      "SATISFIABLE\n",
      "\n",
      "Models       : 1\n",
      "Calls        : 1\n",
      "Time         : 0.007s (Solving: 0.00s 1st Model: 0.00s Unsat: 0.00s)\n",
      "CPU Time     : 0.002s\n"
     ]
    }
   ],
   "source": [
    "!clingo Alice_and_bob.lp"
   ]
  },
  {
   "cell_type": "code",
   "execution_count": 3,
   "id": "6103fcd9-bfd7-4c6b-a9d2-385fd9d14200",
   "metadata": {},
   "outputs": [
    {
     "name": "stdout",
     "output_type": "stream",
     "text": [
      "inner(\"Alice\").\n",
      "inner(\"ET\").\n",
      "inner(\"LOU\").\n",
      "inner(\"ML\").\n",
      "sink(\"DOB\").\n",
      "sink(\"Paris\").\n",
      "sink(\"Person\").\n",
      "source(\"B\").\n"
     ]
    }
   ],
   "source": [
    "!clingo Alice_and_bob.lp -V0 --out-ifs=\\\\n --out-atomf=%s.  | tail -r | tail -n +2 | sort"
   ]
  },
  {
   "cell_type": "code",
   "execution_count": 4,
   "id": "59c45220-892c-4dd3-806a-f6f8398e24bf",
   "metadata": {},
   "outputs": [
    {
     "name": "stdout",
     "output_type": "stream",
     "text": [
      "Overwriting graph.lp\n"
     ]
    }
   ],
   "source": [
    "%%file graph.lp\n",
    "\n",
    "% A Graph G, represented as a database instance I of edges e(From, To):\n",
    "e(1,2).\n",
    "e(1,3).\n",
    "e(2,4).\n",
    "e(3,4).\n",
    "e(4,5).\n",
    "\n",
    "% The vertices of the graph:\n",
    "v(6).    \n",
    "% In RA: V = \\pi_1(E) U \\pi_2(E), i.e., the union of the projections on the 1st and 2nd column, resp.\n",
    "v(X) :- e(X,_).     \n",
    "v(X) :- e(_,X).     \n"
   ]
  },
  {
   "cell_type": "code",
   "execution_count": 5,
   "id": "26d73f9f-7834-4bcb-b204-ac84b458a128",
   "metadata": {},
   "outputs": [
    {
     "name": "stdout",
     "output_type": "stream",
     "text": [
      "Overwriting q4.lp\n"
     ]
    }
   ],
   "source": [
    "%%file q4.lp\n",
    "% Find a path with 3 edges and return the 2nd last vertex: \n",
    "ans1(X) :- e(GP,P), e(P,X), e(X,C).\n",
    "\n",
    "% Find a vertex with (at least) two in-edges: \n",
    "ans2(X) :- e(Y1,X), e(Y2,X), Y1 != Y2.\n",
    "\n",
    "#show ans1/1.\n",
    "#show ans2/1."
   ]
  },
  {
   "cell_type": "code",
   "execution_count": 6,
   "id": "9e52bb34-2ec2-45d7-85c5-29c0fcfd0cbe",
   "metadata": {},
   "outputs": [
    {
     "name": "stdout",
     "output_type": "stream",
     "text": [
      "clingo version 5.3.0\n",
      "Reading from graph.lp ...\n",
      "Solving...\n",
      "Answer: 1\n",
      "ans1(4) ans2(4)\n",
      "SATISFIABLE\n",
      "\n",
      "Models       : 1\n",
      "Calls        : 1\n",
      "Time         : 0.001s (Solving: 0.00s 1st Model: 0.00s Unsat: 0.00s)\n",
      "CPU Time     : 0.001s\n"
     ]
    }
   ],
   "source": [
    "!clingo graph.lp q4.lp"
   ]
  },
  {
   "cell_type": "code",
   "execution_count": null,
   "id": "390d51ad-0db1-4451-8fd1-1db570f3513c",
   "metadata": {},
   "outputs": [],
   "source": []
  }
 ],
 "metadata": {
  "kernelspec": {
   "display_name": "Python 3 (ipykernel)",
   "language": "python",
   "name": "python3"
  },
  "language_info": {
   "codemirror_mode": {
    "name": "ipython",
    "version": 3
   },
   "file_extension": ".py",
   "mimetype": "text/x-python",
   "name": "python",
   "nbconvert_exporter": "python",
   "pygments_lexer": "ipython3",
   "version": "3.7.6"
  }
 },
 "nbformat": 4,
 "nbformat_minor": 5
}
