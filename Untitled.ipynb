{
 "cells": [
  {
   "cell_type": "code",
   "execution_count": 9,
   "id": "911be1a8-9073-4630-bc35-e45f219a363a",
   "metadata": {},
   "outputs": [
    {
     "name": "stdout",
     "output_type": "stream",
     "text": [
      "Writing family_facts.txt\n"
     ]
    }
   ],
   "source": [
    "%%file family_facts.lp\n",
    "father(\"BL\",\"AL\").\n",
    "mother(\"BL\",\"IL\")."
   ]
  },
  {
   "cell_type": "code",
   "execution_count": 5,
   "id": "60abea9d-d96a-4075-bad0-7b7774e4e04b",
   "metadata": {},
   "outputs": [
    {
     "name": "stdout",
     "output_type": "stream",
     "text": [
      "Overwriting family_rules.lp\n"
     ]
    }
   ],
   "source": [
    "%%file family_rules.lp\n",
    "parent(X,Y) :- father(X,Y).\n",
    "parent(X,Y) :- mother(X,Y).\n",
    "\n",
    "#show parent/2."
   ]
  },
  {
   "cell_type": "code",
   "execution_count": 28,
   "id": "25c9a17f-5a60-4a90-bace-df40424663ce",
   "metadata": {},
   "outputs": [
    {
     "name": "stdout",
     "output_type": "stream",
     "text": [
      "Overwriting family_graph.lp\n"
     ]
    }
   ],
   "source": [
    "%%file family_graph.lp\n",
    "% Facts\n",
    "e(\"BL\",father,\"AL\").\n",
    "e(\"BL\",mother,\"IL\").\n",
    "e(\"HL\", parent,\"AL\").\n",
    "\n",
    "% e(\"BL\",brother,\"HL\").\n",
    "\n",
    "% Rules: deriving new relations bassed on existing relations:\n",
    "e(X,parent,Y) :- e(X, father, Y).\n",
    "e(X,parent,Y) :- e(X, mother, Y).\n",
    "\n",
    "e(X,sibling,Y) :- e(X, parent, P), e(Y,parent,P), X!=Y."
   ]
  },
  {
   "cell_type": "code",
   "execution_count": 29,
   "id": "3db50bbe-a34e-4f02-a8d6-23aa6e75c78c",
   "metadata": {},
   "outputs": [
    {
     "name": "stdout",
     "output_type": "stream",
     "text": [
      "e(\"BL\",father,\"AL\").\n",
      "e(\"BL\",mother,\"IL\").\n",
      "e(\"BL\",parent,\"AL\").\n",
      "e(\"BL\",parent,\"IL\").\n",
      "e(\"BL\",sibling,\"HL\").\n",
      "e(\"HL\",parent,\"AL\").\n",
      "e(\"HL\",sibling,\"BL\").\n"
     ]
    }
   ],
   "source": [
    "!clingo family_graph.lp -V0 --out-ifs=\\\\n --out-atomf=%s.  | tail -r | tail -n +2 | sort"
   ]
  },
  {
   "cell_type": "code",
   "execution_count": 6,
   "id": "41ef4598-c15d-4bac-9a56-5d877ea347b6",
   "metadata": {},
   "outputs": [
    {
     "name": "stdout",
     "output_type": "stream",
     "text": [
      "clingo version 5.3.0\n",
      "Reading from family_facts.lp ...\n",
      "Solving...\n",
      "Answer: 1\n",
      "parent(\"BL\",\"IL\") parent(\"BL\",\"AL\")\n",
      "SATISFIABLE\n",
      "\n",
      "Models       : 1\n",
      "Calls        : 1\n",
      "Time         : 0.001s (Solving: 0.00s 1st Model: 0.00s Unsat: 0.00s)\n",
      "CPU Time     : 0.001s\n"
     ]
    }
   ],
   "source": [
    "!clingo family_facts.lp family_rules.lp"
   ]
  },
  {
   "cell_type": "code",
   "execution_count": null,
   "id": "64db1942-ae82-4607-9c8c-7198a3fbfc1a",
   "metadata": {},
   "outputs": [],
   "source": []
  },
  {
   "cell_type": "code",
   "execution_count": 7,
   "id": "c3728879-c0dc-4149-acd5-7a3745eb841f",
   "metadata": {},
   "outputs": [
    {
     "name": "stdout",
     "output_type": "stream",
     "text": [
      "parent(\"BL\",\"AL\").\n",
      "parent(\"BL\",\"IL\").\n"
     ]
    }
   ],
   "source": [
    "!clingo family_facts.lp family_rules.lp -V0 --out-ifs=\\\\n --out-atomf=%s.  | tail -r | tail -n +2 | sort"
   ]
  },
  {
   "cell_type": "code",
   "execution_count": null,
   "id": "4ea90b6a-f6ec-4d44-be06-2c8e0be8aa50",
   "metadata": {},
   "outputs": [],
   "source": []
  }
 ],
 "metadata": {
  "kernelspec": {
   "display_name": "Python 3 (ipykernel)",
   "language": "python",
   "name": "python3"
  },
  "language_info": {
   "codemirror_mode": {
    "name": "ipython",
    "version": 3
   },
   "file_extension": ".py",
   "mimetype": "text/x-python",
   "name": "python",
   "nbconvert_exporter": "python",
   "pygments_lexer": "ipython3",
   "version": "3.7.6"
  }
 },
 "nbformat": 4,
 "nbformat_minor": 5
}
